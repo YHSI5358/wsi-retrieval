{
 "cells": [
  {
   "cell_type": "code",
   "execution_count": 4,
   "metadata": {},
   "outputs": [],
   "source": [
    "import numpy as np\n",
    "import faiss                   # make faiss available\n",
    "import os\n",
    "import cupy as cp\n",
    "import time\n",
    "import json\n",
    "from tqdm import tqdm\n",
    "\n",
    "cupy_dir = os.path.join(f\"MDI_RAG_Image2Image_Research/data/cupy_embeddings_level1+\")\n",
    "cupy_files = os.listdir(cupy_dir)\n",
    "cupy_files = [os.path.join(cupy_dir, file) for file in cupy_files]\n",
    "cupy_info_dir = os.path.join(f\"MDI_RAG_Image2Image_Research/data/cupy_infos_level1+\")\n",
    "\n",
    "cuda_type = \"faiss\"\n",
    "# cuda_type = \"faiss_flatL2\"\n",
    "\n",
    "cuda_cache_dir_name = cuda_type + \"_embeddings_level1+\"\n",
    "cuda_infos_dir_name = cuda_type + \"_infos_level1+\"\n",
    "cuda_index_dir_name = cuda_type + \"_index_level1+\"\n",
    "\n",
    "cuda_index_dir = \"MDI_RAG_Image2Image_Research/data/\" + cuda_index_dir_name\n",
    "cuda_infos_dir = \"MDI_RAG_Image2Image_Research/data/\" + cuda_infos_dir_name\n",
    "cuda_files = os.listdir(cuda_index_dir)\n",
    "\n",
    "# 读取存储的index文件，并进行查询\n",
    "index_list = []\n",
    "for i in range(len(cuda_files)):\n",
    "    if cuda_type == \"faiss\":\n",
    "        for j in range(4):\n",
    "            temp_index = faiss.read_index(f\"{cuda_index_dir}/{cuda_type}_index_batch_{i}_{j}.bin\")\n",
    "            index_list.append(temp_index)\n",
    "    else:\n",
    "        temp_index = faiss.read_index(f\"{cuda_index_dir}/{cuda_type}_index_batch_{i}.bin\")\n",
    "        index_list.append(temp_index)\n",
    "    break\n",
    "\n",
    "# 读取存储的info\n",
    "info_list = []\n",
    "for i in range(len(cuda_files)):\n",
    "    if cuda_type == \"faiss\":\n",
    "        for j in range(4):\n",
    "            with open(f\"{cuda_infos_dir}/{cuda_type}_infos_batch_{i}_{j}.json\", \"r\") as f:\n",
    "                info = json.load(f)\n",
    "                info_list.append(info)\n",
    "    else:\n",
    "        with open(f\"{cuda_infos_dir}/{cuda_type}_infos_batch_{i}.json\", \"r\") as f:\n",
    "            info = json.load(f)\n",
    "            info_list.append(info)\n",
    "    break\n",
    "\n"
   ]
  },
  {
   "cell_type": "code",
   "execution_count": 5,
   "metadata": {},
   "outputs": [
    {
     "data": {
      "text/plain": [
       "854923"
      ]
     },
     "execution_count": 5,
     "metadata": {},
     "output_type": "execute_result"
    }
   ],
   "source": [
    "# 构建1024个query,测试gpu\n",
    "res = faiss.StandardGpuResources()\n",
    "gpu_index_list = []\n",
    "for i in range(len(index_list)):\n",
    "    gpu_index = faiss.index_cpu_to_gpu(res, 0, index_list[i])\n",
    "    gpu_index_list.append(gpu_index)\n",
    "# gpu_index = faiss.index_cpu_to_gpu(res, 0, index_list[0])\n",
    "gpu_index.ntotal"
   ]
  },
  {
   "cell_type": "code",
   "execution_count": 15,
   "metadata": {},
   "outputs": [
    {
     "data": {
      "text/plain": [
       "[<faiss.swigfaiss_avx512.GpuIndexIVFFlat; proxy of <Swig Object of type 'faiss::gpu::GpuIndexIVFFlat *' at 0x7fe92d34cae0> >,\n",
       " <faiss.swigfaiss_avx512.GpuIndexIVFFlat; proxy of <Swig Object of type 'faiss::gpu::GpuIndexIVFFlat *' at 0x7fe92d34dfb0> >,\n",
       " <faiss.swigfaiss_avx512.GpuIndexIVFFlat; proxy of <Swig Object of type 'faiss::gpu::GpuIndexIVFFlat *' at 0x7fe92d5b76c0> >,\n",
       " <faiss.swigfaiss_avx512.GpuIndexIVFFlat; proxy of <Swig Object of type 'faiss::gpu::GpuIndexIVFFlat *' at 0x7fe92d5b7d20> >]"
      ]
     },
     "execution_count": 15,
     "metadata": {},
     "output_type": "execute_result"
    }
   ],
   "source": [
    "gpu_index_list"
   ]
  },
  {
   "cell_type": "code",
   "execution_count": null,
   "metadata": {},
   "outputs": [
    {
     "name": "stderr",
     "output_type": "stream",
     "text": [
      "  0%|          | 0/1000 [00:00<?, ?it/s]"
     ]
    },
    {
     "name": "stderr",
     "output_type": "stream",
     "text": [
      "100%|██████████| 1000/1000 [00:10<00:00, 92.97it/s]\n"
     ]
    },
    {
     "name": "stdout",
     "output_type": "stream",
     "text": [
      "n=1024 0.004198521614074707\n"
     ]
    },
    {
     "name": "stderr",
     "output_type": "stream",
     "text": [
      "100%|██████████| 1000/1000 [00:02<00:00, 461.26it/s]\n"
     ]
    },
    {
     "name": "stdout",
     "output_type": "stream",
     "text": [
      "n=100 0.0015241003036499023\n"
     ]
    },
    {
     "name": "stderr",
     "output_type": "stream",
     "text": [
      "100%|██████████| 1000/1000 [00:01<00:00, 780.45it/s]\n"
     ]
    },
    {
     "name": "stdout",
     "output_type": "stream",
     "text": [
      "n=10 0.001194572925567627\n"
     ]
    },
    {
     "name": "stderr",
     "output_type": "stream",
     "text": [
      "100%|██████████| 1000/1000 [00:00<00:00, 1474.89it/s]"
     ]
    },
    {
     "name": "stdout",
     "output_type": "stream",
     "text": [
      "n=1 0.0006620974540710449\n",
      "faiss\n"
     ]
    },
    {
     "name": "stderr",
     "output_type": "stream",
     "text": [
      "\n"
     ]
    }
   ],
   "source": [
    "n_list = [1024,100,10,1]\n",
    "# n_list = [10]\n",
    "for n in n_list:\n",
    "    time_list = []\n",
    "    for i in tqdm(range(1000)):\n",
    "        query = np.random.rand(n, 1024).astype('float32')\n",
    "        begin_time = time.time()\n",
    "        if cuda_type == \"faiss\":\n",
    "            for j in range(len(gpu_index_list)):\n",
    "                D, I = gpu_index_list[j].search(query, 10)\n",
    "        else:\n",
    "            D, I = gpu_index_list[0].search(query, 10)\n",
    "        end_time = time.time()\n",
    "        time_list.append(end_time - begin_time)\n",
    "    print(f\"n={n}\",np.mean(time_list))\n",
    "print(cuda_type)\n"
   ]
  },
  {
   "cell_type": "code",
   "execution_count": 23,
   "metadata": {},
   "outputs": [
    {
     "data": {
      "text/plain": [
       "array([[1425265, 1751998, 1537612, 1537613, 2570457,   38942,   37593,\n",
       "          38022,   38945, 2569697]])"
      ]
     },
     "execution_count": 23,
     "metadata": {},
     "output_type": "execute_result"
    }
   ],
   "source": [
    "I"
   ]
  },
  {
   "cell_type": "code",
   "execution_count": 19,
   "metadata": {},
   "outputs": [],
   "source": [
    "res = faiss.StandardGpuResources()\n",
    "gpu_index = faiss.index_cpu_to_gpu(res, 0, index_list[0])"
   ]
  },
  {
   "cell_type": "code",
   "execution_count": 18,
   "metadata": {},
   "outputs": [
    {
     "name": "stdout",
     "output_type": "stream",
     "text": [
      "Query time: 0.05280613899230957\n"
     ]
    }
   ],
   "source": [
    "begin_time = time.time()\n",
    "D, I = gpu_index.search(query, 10)\n",
    "end_time = time.time()\n",
    "print(f\"Query time: {end_time - begin_time}\")\n",
    "# 释放资源\n",
    "del gpu_index\n"
   ]
  }
 ],
 "metadata": {
  "kernelspec": {
   "display_name": "yhre-new",
   "language": "python",
   "name": "python3"
  },
  "language_info": {
   "codemirror_mode": {
    "name": "ipython",
    "version": 3
   },
   "file_extension": ".py",
   "mimetype": "text/x-python",
   "name": "python",
   "nbconvert_exporter": "python",
   "pygments_lexer": "ipython3",
   "version": "3.10.14"
  }
 },
 "nbformat": 4,
 "nbformat_minor": 2
}
