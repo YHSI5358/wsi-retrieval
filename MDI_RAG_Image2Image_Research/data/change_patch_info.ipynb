{
 "cells": [
  {
   "cell_type": "code",
   "execution_count": 1,
   "metadata": {},
   "outputs": [],
   "source": [
    "import os\n",
    "import json\n",
    "from tqdm import tqdm\n",
    "import numpy as np\n",
    "\n",
    "embed_cache_path = 'embedding_cache'\n",
    "image_names = os.listdir(embed_cache_path)"
   ]
  },
  {
   "cell_type": "code",
   "execution_count": 2,
   "metadata": {},
   "outputs": [
    {
     "data": {
      "text/plain": [
       "1727"
      ]
     },
     "execution_count": 2,
     "metadata": {},
     "output_type": "execute_result"
    }
   ],
   "source": [
    "len(image_names)"
   ]
  },
  {
   "cell_type": "code",
   "execution_count": 3,
   "metadata": {},
   "outputs": [
    {
     "name": "stderr",
     "output_type": "stream",
     "text": [
      "100%|██████████| 1727/1727 [00:22<00:00, 75.75it/s]   \n"
     ]
    }
   ],
   "source": [
    "for img_name in tqdm(image_names):\n",
    "    patch_info_path_edited = os.path.join(embed_cache_path, img_name, 'patch_info_edited.json')\n",
    "    if os.path.exists(patch_info_path_edited):\n",
    "        continue\n",
    "    patch_info_path = os.path.join(embed_cache_path, img_name, 'patch_info.json')\n",
    "    with open(patch_info_path, 'r') as f:\n",
    "        patch_info = json.load(f)\n",
    "        patch_info = [img_name + i for i in patch_info]\n",
    "\n",
    "    with open(patch_info_path_edited, 'w') as f:\n",
    "        json.dump(patch_info, f)"
   ]
  },
  {
   "cell_type": "code",
   "execution_count": 3,
   "metadata": {},
   "outputs": [
    {
     "name": "stderr",
     "output_type": "stream",
     "text": [
      "100%|██████████| 1727/1727 [01:45<00:00, 16.38it/s]\n"
     ]
    },
    {
     "data": {
      "text/plain": [
       "60481041"
      ]
     },
     "execution_count": 3,
     "metadata": {},
     "output_type": "execute_result"
    }
   ],
   "source": [
    "patch_count = []\n",
    "for img_name in tqdm(image_names[:]):\n",
    "    # patch_info_path_edited = os.path.join(embed_cache_path, img_name, 'patch_info_edited.json')\n",
    "    # if os.path.exists(patch_info_path_edited):\n",
    "    #     continue\n",
    "    patch_info_path = os.path.join(embed_cache_path, img_name, 'patch_info.json')\n",
    "    with open(patch_info_path, 'r') as f:\n",
    "        patch_info = json.load(f)\n",
    "\n",
    "        patch_count.append(len(patch_info))\n",
    "np.sum(patch_count)"
   ]
  },
  {
   "cell_type": "code",
   "execution_count": 18,
   "metadata": {},
   "outputs": [
    {
     "name": "stdout",
     "output_type": "stream",
     "text": [
      "2 25500\n",
      "5 160140\n",
      "29 1001576\n",
      "300 10056907\n"
     ]
    }
   ],
   "source": [
    "\n",
    "patch_count = np.array(patch_count)\n",
    "\n",
    "print(np.where(np.cumsum(patch_count) > 10000)[0][0]+1, np.cumsum(patch_count)[np.where(np.cumsum(patch_count) > 10000)[0][0]])\n",
    "print(np.where(np.cumsum(patch_count) > 100000)[0][0]+1, np.cumsum(patch_count)[np.where(np.cumsum(patch_count) > 100000)[0][0]])\n",
    "print(np.where(np.cumsum(patch_count) > 1000000)[0][0]+1, np.cumsum(patch_count)[np.where(np.cumsum(patch_count) > 1000000)[0][0]])\n",
    "print(np.where(np.cumsum(patch_count) > 10000000)[0][0]+1, np.cumsum(patch_count)[np.where(np.cumsum(patch_count) > 10000000)[0][0]])\n"
   ]
  }
 ],
 "metadata": {
  "kernelspec": {
   "display_name": "yhre",
   "language": "python",
   "name": "python3"
  },
  "language_info": {
   "codemirror_mode": {
    "name": "ipython",
    "version": 3
   },
   "file_extension": ".py",
   "mimetype": "text/x-python",
   "name": "python",
   "nbconvert_exporter": "python",
   "pygments_lexer": "ipython3",
   "version": "3.12.2"
  }
 },
 "nbformat": 4,
 "nbformat_minor": 2
}
