{
 "cells": [
  {
   "cell_type": "code",
   "execution_count": 4,
   "metadata": {},
   "outputs": [],
   "source": [
    "import json, sys, uuid, hashlib, ast, requests, os\n",
    "from PIL import Image\n",
    "from sqlalchemy import create_engine, MetaData\n",
    "from sqlalchemy.sql import text\n",
    "from llama_index.core import SQLDatabase\n",
    "from llama_index.core.schema import TextNode, ImageNode\n",
    "import urllib.parse\n",
    "from tqdm import tqdm\n",
    "# from Retrieval_Server.modules.load_images import load_svsortiff_image, load_pngorjpg_image\n",
    "from sqlalchemy.sql import text\n",
    "import urllib3\n",
    "urllib3.disable_warnings(urllib3.exceptions.InsecureRequestWarning)"
   ]
  },
  {
   "cell_type": "code",
   "execution_count": null,
   "metadata": {},
   "outputs": [],
   "source": [
    "def create_text_node_from_sql(sql_database, uuid_namespace):\n",
    "    nodes = []\n",
    "    with sql_database.engine.connect() as connection:\n",
    "        \n",
    "        tables = connection.execute(text(\"SELECT table_name FROM information_schema.tables WHERE table_schema='public'\")).fetchall()\n",
    "        \n",
    "        for table in tables:\n",
    "            print(\"table\", table)\n",
    "            table_name = table[0]\n",
    "            \n",
    "            contents = connection.execute(text(f\"SELECT * FROM {table_name}\")).fetchall()\n",
    "            print(\"contents\", contents)\n",
    "            if len(contents) == 0:\n",
    "                continue\n",
    "            \n",
    "\n",
    "            for row in contents:\n",
    "                print(\"row\", row)\n",
    "                break\n",
    "                row_dict = {}\n",
    "                for i in range(len(row)):\n",
    "                    row_dict[str(i)] = str(row[i])\n",
    "                nodes.append(TextNode(id=uuid.uuid5(uuid_namespace, str(row_dict)),\n",
    "                                    text=str(row_dict),\n",
    "                                    metadata=row_dict))\n",
    "    return nodes"
   ]
  },
  {
   "cell_type": "code",
   "execution_count": null,
   "metadata": {},
   "outputs": [],
   "source": [
    "user_name, password, ip, port, db_name = r'aladdin_remap_ro', r'[rFPe!8|b(~lrnADYI91r>H:@S~z3x', \"localhost\", \"5432\", \"aladdin_remap\"\n",
    "uuid_namespace = uuid.NAMESPACE_URL\n",
    "encoded_password = urllib.parse.quote_plus(password)\n",
    "print(f'postgresql://{user_name}:{encoded_password}@{ip}:{port}/{db_name}')\n",
    "\n",
    "engine = create_engine(f'postgresql://{user_name}:{encoded_password}@{ip}:{port}/{db_name}')\n",
    "metadata = MetaData()\n",
    "\n",
    "metadata.create_all(engine)\n",
    "\n",
    "sql_database = SQLDatabase(engine)\n",
    "text_nodes = create_text_node_from_sql(sql_database, uuid_namespace)"
   ]
  },
  {
   "cell_type": "code",
   "execution_count": null,
   "metadata": {},
   "outputs": [],
   "source": []
  }
 ],
 "metadata": {
  "kernelspec": {
   "display_name": "yhre-new",
   "language": "python",
   "name": "python3"
  },
  "language_info": {
   "codemirror_mode": {
    "name": "ipython",
    "version": 3
   },
   "file_extension": ".py",
   "mimetype": "text/x-python",
   "name": "python",
   "nbconvert_exporter": "python",
   "pygments_lexer": "ipython3",
   "version": "3.10.14"
  }
 },
 "nbformat": 4,
 "nbformat_minor": 2
}
