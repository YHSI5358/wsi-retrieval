{
 "cells": [
  {
   "cell_type": "code",
   "execution_count": 1,
   "metadata": {},
   "outputs": [
    {
     "name": "stdout",
     "output_type": "stream",
     "text": [
      "  /hpc2hdd/home/ysi538/my_cuda_code/test_dataset/Brain  : 832\n",
      "  /hpc2hdd/home/ysi538/my_cuda_code/test_dataset/Liver  : 1689\n",
      "  /hpc2hdd/home/ysi538/my_cuda_code/test_dataset/Endocrine  : 1740\n",
      "  /hpc2hdd/home/ysi538/my_cuda_code/test_dataset/Gastrointestinal  : 2142\n",
      "  /hpc2hdd/home/ysi538/my_cuda_code/test_dataset/Urinary  : 2187\n",
      "  /hpc2hdd/home/ysi538/my_cuda_code/test_dataset/Others  : 2811\n",
      "  /hpc2hdd/home/ysi538/my_cuda_code/test_dataset/Hematopoietic  : 1139\n",
      "  /hpc2hdd/home/ysi538/my_cuda_code/test_dataset/Gynecologic  : 2171\n",
      "  /hpc2hdd/home/ysi538/my_cuda_code/test_dataset/Melanocytic  : 1152\n",
      "  /hpc2hdd/home/ysi538/my_cuda_code/test_dataset/Prostate  : 1143\n"
     ]
    }
   ],
   "source": [
    "import os\n",
    "import random\n",
    "\n",
    "def count_files_and_trim(directory, target_count=200):\n",
    "    for root, dirs, files in os.walk(directory):\n",
    "        for dir_name in dirs:\n",
    "            dir_path = os.path.join(root, dir_name)\n",
    "            files_in_dir = os.listdir(dir_path)\n",
    "            file_count = len(files_in_dir)\n",
    "            print(f\"  {dir_path}  : {file_count}\")\n",
    "            \n",
    "            if file_count > target_count:\n",
    "                files_to_delete = random.sample(files_in_dir, file_count - target_count)\n",
    "                for file_name in files_to_delete:\n",
    "                    file_path = os.path.join(dir_path, file_name)\n",
    "                    os.remove(file_path)\n",
    "                print(f\"  {len(files_to_delete)}   {dir_path}   {target_count}  \")\n",
    "\n",
    "#  \n",
    "count_files_and_trim('/hpc2hdd/home/ysi538/my_cuda_code/test_dataset')"
   ]
  }
 ],
 "metadata": {
  "kernelspec": {
   "display_name": "yhre-new",
   "language": "python",
   "name": "python3"
  },
  "language_info": {
   "codemirror_mode": {
    "name": "ipython",
    "version": 3
   },
   "file_extension": ".py",
   "mimetype": "text/x-python",
   "name": "python",
   "nbconvert_exporter": "python",
   "pygments_lexer": "ipython3",
   "version": "3.10.13"
  }
 },
 "nbformat": 4,
 "nbformat_minor": 2
}
