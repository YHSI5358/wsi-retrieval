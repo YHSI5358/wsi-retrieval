{
 "cells": [
  {
   "cell_type": "code",
   "execution_count": 1,
   "metadata": {},
   "outputs": [
    {
     "name": "stdout",
     "output_type": "stream",
     "text": [
      "目录 /hpc2hdd/home/ysi538/my_cuda_code/test_dataset/Brain 中的文件数量: 832\n",
      "目录 /hpc2hdd/home/ysi538/my_cuda_code/test_dataset/Liver 中的文件数量: 1689\n",
      "目录 /hpc2hdd/home/ysi538/my_cuda_code/test_dataset/Endocrine 中的文件数量: 1740\n",
      "目录 /hpc2hdd/home/ysi538/my_cuda_code/test_dataset/Gastrointestinal 中的文件数量: 2142\n",
      "目录 /hpc2hdd/home/ysi538/my_cuda_code/test_dataset/Urinary 中的文件数量: 2187\n",
      "目录 /hpc2hdd/home/ysi538/my_cuda_code/test_dataset/Others 中的文件数量: 2811\n",
      "目录 /hpc2hdd/home/ysi538/my_cuda_code/test_dataset/Hematopoietic 中的文件数量: 1139\n",
      "目录 /hpc2hdd/home/ysi538/my_cuda_code/test_dataset/Gynecologic 中的文件数量: 2171\n",
      "目录 /hpc2hdd/home/ysi538/my_cuda_code/test_dataset/Melanocytic 中的文件数量: 1152\n",
      "目录 /hpc2hdd/home/ysi538/my_cuda_code/test_dataset/Prostate 中的文件数量: 1143\n"
     ]
    }
   ],
   "source": [
    "import os\n",
    "import random\n",
    "\n",
    "def count_files_and_trim(directory, target_count=200):\n",
    "    for root, dirs, files in os.walk(directory):\n",
    "        for dir_name in dirs:\n",
    "            dir_path = os.path.join(root, dir_name)\n",
    "            files_in_dir = os.listdir(dir_path)\n",
    "            file_count = len(files_in_dir)\n",
    "            print(f\"目录 {dir_path} 中的文件数量: {file_count}\")\n",
    "            \n",
    "            if file_count > target_count:\n",
    "                files_to_delete = random.sample(files_in_dir, file_count - target_count)\n",
    "                for file_name in files_to_delete:\n",
    "                    file_path = os.path.join(dir_path, file_name)\n",
    "                    os.remove(file_path)\n",
    "                print(f\"已删除 {len(files_to_delete)} 个文件，目录 {dir_path} 现在有 {target_count} 个文件\")\n",
    "\n",
    "# 调用函数\n",
    "count_files_and_trim('/hpc2hdd/home/ysi538/my_cuda_code/test_dataset')"
   ]
  }
 ],
 "metadata": {
  "kernelspec": {
   "display_name": "yhre-new",
   "language": "python",
   "name": "python3"
  },
  "language_info": {
   "codemirror_mode": {
    "name": "ipython",
    "version": 3
   },
   "file_extension": ".py",
   "mimetype": "text/x-python",
   "name": "python",
   "nbconvert_exporter": "python",
   "pygments_lexer": "ipython3",
   "version": "3.10.13"
  }
 },
 "nbformat": 4,
 "nbformat_minor": 2
}
