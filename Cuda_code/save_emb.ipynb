{
 "cells": [
  {
   "cell_type": "code",
   "execution_count": 1,
   "metadata": {},
   "outputs": [],
   "source": [
    "import os\n",
    "import sys\n",
    "sys.path.append(\".\")\n",
    "sys.path.append(\"..\")\n",
    "sys.path.append(\"...\")\n",
    "import json\n",
    "import uuid\n",
    "import cupy as cp\n",
    "from cuvs.neighbors import cagra, hnsw, brute_force, ivf_flat\n",
    "from tqdm import tqdm\n",
    "from datetime import datetime\n",
    "import time\n",
    "\n",
    "import faiss  \n",
    "import numpy as np"
   ]
  },
  {
   "cell_type": "code",
   "execution_count": 9,
   "metadata": {},
   "outputs": [],
   "source": [
    "embed_cache_path = \"data/embedding_cache_level0\"\n",
    "image_names = os.listdir(embed_cache_path)"
   ]
  },
  {
   "cell_type": "code",
   "execution_count": 10,
   "metadata": {},
   "outputs": [],
   "source": [
    "def load_json_file(file_path):\n",
    "    with open(file_path, 'r') as f:\n",
    "        data = json.load(f)\n",
    "        return data\n",
    "\n",
    "def load_embeddings(embed_cache_path, wsi_name):\n",
    "    embeddings_path = os.path.join(embed_cache_path, wsi_name, \"embeddings.json\")\n",
    "    embeddings = load_json_file(embeddings_path)\n",
    "    return embeddings"
   ]
  },
  {
   "cell_type": "code",
   "execution_count": 11,
   "metadata": {},
   "outputs": [
    {
     "name": "stderr",
     "output_type": "stream",
     "text": [
      "Batch index:: 100%|###############################################################################################| 124/124 [1:01:12<00:00, 29.61s/it]\n"
     ]
    }
   ],
   "source": [
    "\n",
    "\n",
    "\n",
    "embeddings = [load_embeddings(embed_cache_path, wsi_name) for wsi_name in tqdm(image_names, desc=f\"Batch index:\", ascii=True, ncols=150)]\n",
    "embeddings = [item for sublist in embeddings for item in sublist]  # Flatten the list\n",
    "embeddings = cp.array(embeddings, dtype=cp.float32)"
   ]
  },
  {
   "cell_type": "code",
   "execution_count": 12,
   "metadata": {},
   "outputs": [],
   "source": [
    "# 更新 infos\n",
    "batch_infos = []\n",
    "for wsi_name in image_names:\n",
    "    patch_info_path = os.path.join(embed_cache_path, wsi_name, \"patch_info_edited.json\")\n",
    "    if not os.path.exists(patch_info_path):\n",
    "        patch_info_path_edited = os.path.join(embed_cache_path, wsi_name, 'patch_info_edited.json')\n",
    "        patch_info_path_origin = os.path.join(embed_cache_path, wsi_name, 'patch_info.json')\n",
    "        with open(patch_info_path_origin, 'r') as f:\n",
    "            patch_info_origin = json.load(f)\n",
    "            # 在最前面加上图片名\n",
    "            patch_info_edited = [wsi_name + i for i in patch_info_origin]       \n",
    "        # 将修改后的patch_info写回文件\n",
    "        with open(patch_info_path_edited, 'w') as f:\n",
    "            json.dump(patch_info_edited, f)\n",
    "\n",
    "    patch_infos = load_json_file(patch_info_path)\n",
    "    batch_infos += patch_infos"
   ]
  },
  {
   "cell_type": "code",
   "execution_count": 13,
   "metadata": {},
   "outputs": [],
   "source": [
    "cuda_infos_dir = \"data/cuda_infos_level0\"\n",
    "if not os.path.exists(cuda_infos_dir):\n",
    "    os.makedirs(cuda_infos_dir)\n",
    "\n",
    "cuda_npy_dir = \"data/cuda_npy_level0\"\n",
    "if not os.path.exists(cuda_npy_dir):\n",
    "    os.makedirs(cuda_npy_dir)\n",
    "\n",
    "def save_infos_to_file(infos, batch_index):\n",
    "    \"\"\"将 infos 保存到文件。\"\"\"\n",
    "    file_path = os.path.join(cuda_infos_dir, f\"infos_batch_{batch_index}.json\")\n",
    "    with open(file_path, \"w\") as f:\n",
    "        json.dump(infos, f)\n",
    "    \n",
    "def save_embeddings_to_file(embeddings, batch_index):\n",
    "    \"\"\"将 cuda 数组保存到文件。\"\"\"\n",
    "    file_path = os.path.join(cuda_npy_dir, f\"embeddings_batch_{batch_index}.npy\")\n",
    "    cp.save(file_path, embeddings)"
   ]
  },
  {
   "cell_type": "code",
   "execution_count": 14,
   "metadata": {},
   "outputs": [
    {
     "ename": "",
     "evalue": "",
     "output_type": "error",
     "traceback": [
      "\u001b[1;31m在当前单元格或上一个单元格中执行代码时 Kernel 崩溃。\n",
      "\u001b[1;31m请查看单元格中的代码，以确定故障的可能原因。\n",
      "\u001b[1;31m单击<a href='https://aka.ms/vscodeJupyterKernelCrash'>此处</a>了解详细信息。\n",
      "\u001b[1;31m有关更多详细信息，请查看 Jupyter <a href='command:jupyter.viewOutput'>log</a>。"
     ]
    }
   ],
   "source": [
    "save_embeddings_to_file(embeddings, \"all\")\n",
    "save_infos_to_file(batch_infos, \"all\")"
   ]
  }
 ],
 "metadata": {
  "kernelspec": {
   "display_name": "yhre-new",
   "language": "python",
   "name": "python3"
  },
  "language_info": {
   "codemirror_mode": {
    "name": "ipython",
    "version": 3
   },
   "file_extension": ".py",
   "mimetype": "text/x-python",
   "name": "python",
   "nbconvert_exporter": "python",
   "pygments_lexer": "ipython3",
   "version": "3.10.13"
  }
 },
 "nbformat": 4,
 "nbformat_minor": 2
}
